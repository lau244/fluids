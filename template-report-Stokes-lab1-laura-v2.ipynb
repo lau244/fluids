{
  "nbformat": 4,
  "nbformat_minor": 0,
  "metadata": {
    "colab": {
      "name": "template-report-Stokes.ipynb",
      "provenance": [],
      "include_colab_link": true
    },
    "kernelspec": {
      "name": "python3",
      "display_name": "Python 3"
    }
  },
  "cells": [
    {
      "cell_type": "markdown",
      "metadata": {
        "id": "view-in-github",
        "colab_type": "text"
      },
      "source": [
        "<a href=\"https://colab.research.google.com/github/lau244/fluids/blob/main/template-report-Stokes-lab1-laura-v2.ipynb\" target=\"_parent\"><img src=\"https://colab.research.google.com/assets/colab-badge.svg\" alt=\"Open In Colab\"/></a>"
      ]
    },
    {
      "cell_type": "markdown",
      "metadata": {
        "id": "cyCUwzF-wRoW"
      },
      "source": [
        "# **The Stokes equations**\n",
        "**Johan Hoffman**"
      ]
    },
    {
      "cell_type": "markdown",
      "metadata": {
        "id": "9x_J5FVuPzbm"
      },
      "source": [
        "# **Abstract**"
      ]
    },
    {
      "cell_type": "markdown",
      "metadata": {
        "id": "6UFTSzW7P8kL"
      },
      "source": [
        "This short report show an example on how to use FEniCS to solve the Stokes equations, which is used in the course DD2365 Advanced Computation in Fluid Mechanics, at the KTH Royal Institute of Technology.\n",
        "\n",
        "[DD2365 course website.](https://kth.instructure.com/courses/17071)"
      ]
    },
    {
      "cell_type": "markdown",
      "metadata": {
        "id": "OkT8J7uOWpT3"
      },
      "source": [
        "# **About the code**"
      ]
    },
    {
      "cell_type": "code",
      "metadata": {
        "id": "Pdll1Xc9WP0e",
        "colab": {
          "base_uri": "https://localhost:8080/",
          "height": 34
        },
        "outputId": "6c34e03e-8c24-47bf-f415-18a7697cf515"
      },
      "source": [
        "\"\"\"This program is an example file for the course\"\"\"\n",
        "\"\"\"DD2365 Advanced Computation in Fluid Mechanics, \"\"\"\n",
        "\"\"\"KTH Royal Institute of Technology, Stockholm, Sweden.\"\"\"\n",
        "\n",
        "# Copyright (C) 2020 Johan Hoffman (jhoffman@kth.se)\n",
        "\n",
        "# This file is part of the course DD2365 Advanced Computation in Fluid Mechanics\n",
        "# KTH Royal Institute of Technology, Stockholm, Sweden\n",
        "#\n",
        "# This is free software: you can redistribute it and/or modify\n",
        "# it under the terms of the GNU Lesser General Public License as published by\n",
        "# the Free Software Foundation, either version 3 of the License, or\n",
        "# (at your option) any later version.\n",
        "\n",
        "# This template is maintained by Johan Hoffman\n",
        "# Please report problems to jhoffman@kth.se"
      ],
      "execution_count": null,
      "outputs": [
        {
          "output_type": "execute_result",
          "data": {
            "text/plain": [
              "'KTH Royal Institute of Technology, Stockholm, Sweden.'"
            ],
            "application/vnd.google.colaboratory.intrinsic+json": {
              "type": "string"
            }
          },
          "metadata": {},
          "execution_count": 1
        }
      ]
    },
    {
      "cell_type": "markdown",
      "metadata": {
        "id": "28xLGz8JX3Hh"
      },
      "source": [
        "# **Set up environment**"
      ]
    },
    {
      "cell_type": "code",
      "metadata": {
        "id": "Xw7VlErAX7NS"
      },
      "source": [
        "# Load neccessary modules.\n",
        "from google.colab import files\n",
        "\n",
        "import numpy as np\n",
        "import time\n",
        "\n",
        "# Install FEniCS (this may take a long time)\n",
        "try:\n",
        "    import dolfin\n",
        "except ImportError:\n",
        "    !wget \"https://fem-on-colab.github.io/releases/fenics-install-real.sh\" -O \"/tmp/fenics-install.sh\" && bash \"/tmp/fenics-install.sh\"\n",
        "    import dolfin\n",
        "\n",
        "from dolfin import *; from mshr import *\n",
        "\n",
        "import dolfin.common.plotting as fenicsplot\n",
        "\n",
        "from matplotlib import pyplot as plt"
      ],
      "execution_count": null,
      "outputs": []
    },
    {
      "cell_type": "markdown",
      "metadata": {
        "id": "gnO3lhAigLev"
      },
      "source": [
        "# **Introduction**"
      ]
    },
    {
      "cell_type": "markdown",
      "metadata": {
        "id": "l5zMzgPlRAF6"
      },
      "source": [
        "The Stokes equations take the form\n",
        "\n",
        "$\\nabla p -\\Delta u = f,\\quad \\nabla \\cdot u=0$\n",
        "\n",
        "together with suitable boundary conditions.\n",
        "\n",
        "Here we present a FEniCS implementation of a mixed finite element method to solve the Stokes equations in 2D. The solution is visualized using FEniCS plotting functions, and is also exported as pvd-files which can be visualized in Paraview.\n",
        "\n",
        "To derive the weak form of the equations, multiply the momentum equation by $v\\in V$ and the continuity equation by $q\\in Q$, and then integrate over the domain $\\Omega$ and use Green's formula\n",
        "$\n",
        "(\\nabla p -\\Delta u,v) = -(p,\\nabla \\cdot v) + (\\nabla u, \\nabla v)\n",
        "+ <pn - \\nabla u\\cdot n, v>_{\\Gamma}\n",
        "$\n",
        "\n",
        "We seek a finite element approximation $(u,p)\\in V\\times Q$ such that\n",
        "\n",
        "$- (p,\\nabla \\cdot v) + (\\nabla u,\\nabla v) + (\\nabla \\cdot u, q)\n",
        "+ <pn - \\nabla u\\cdot n, v>_{\\partial \\Omega} = (f,v)$\n",
        "\n",
        "for all test functions $(v,q) \\in V\\times Q$.\n",
        "\n",
        "$\n",
        "(v,w) = \\int_{\\Omega} v\\cdot w ~dx, \\quad\n",
        "<v,w>_{\\partial \\Omega} = \\int_{\\partial \\Omega} v\\cdot w~ds\n",
        "$\n",
        "\n",
        "We divide the boundary into $\\partial \\Omega=\\Gamma_D \\cup \\Gamma_N$, with the different boundary conditions\n",
        "\n",
        "$\n",
        "u = g_D,\\quad x\\in \\Gamma_D,\n",
        "$\n",
        "\n",
        "$\n",
        "-\\nu \\nabla u\\cdot n + pn = g_N, \\quad x\\in \\Gamma_N,\n",
        "$\n",
        "\n",
        "For $x\\in \\Gamma_D$ the test function $v=0$. Hence, with $g_N=0$ the boundary term is zero.\n",
        "\n",
        "The equations can be expressed in residual form\n",
        "\n",
        "$r(u,p;v,q) = - (p,\\nabla \\cdot v) + (\\nabla u,\\nabla v) + (\\nabla \\cdot u, q) - (f,v)$\n",
        "\n",
        "We use inf-sup stable Taylor-Hood approximation spaces,\n",
        "and to implement the velocity boundary conditions we use a penalty formulation, with a penalty parameter $\\gamma = C/h$, with $C>0$ a constant and $h$ the local mesh size. At outflow we use a \"do nothing\" stress free boundary condition.\n"
      ]
    },
    {
      "cell_type": "markdown",
      "metadata": {
        "id": "jOQvukXZq5U5"
      },
      "source": [
        "# **Method**"
      ]
    },
    {
      "cell_type": "markdown",
      "metadata": {
        "id": "wu2fugJ32t8m"
      },
      "source": [
        "**Define domain and mesh**"
      ]
    },
    {
      "cell_type": "code",
      "metadata": {
        "id": "_KBWOVATuBQz"
      },
      "source": [
        "# Define rectangular domain\n",
        "L = 4\n",
        "H = 2\n",
        "radius = 0.2\n",
        "\n",
        "# Generate mesh (examples with and without a hole in the mesh)\n",
        "resolution = 32\n",
        "mesh = generate_mesh(Rectangle(Point(0.0,0.0), Point(L,H)) - Circle(Point(0.5*L,0.5*H),radius), resolution)\n",
        "\n",
        "# Local mesh refinement (specified by a cell marker)\n",
        "no_levels = 1\n",
        "for i in range(0,no_levels):\n",
        "  cell_marker = MeshFunction(\"bool\", mesh, mesh.topology().dim())\n",
        "  for cell in cells(mesh):\n",
        "    cell_marker[cell] = False\n",
        "    p = cell.midpoint()\n",
        "    if p.distance(Point(0.5*L,0.5*H)) < 1.0:\n",
        "        cell_marker[cell] = True\n",
        "  mesh = refine(mesh, cell_marker)\n",
        "\n",
        "plt.figure()\n",
        "plot(mesh)\n",
        "plt.show()"
      ],
      "execution_count": null,
      "outputs": []
    },
    {
      "cell_type": "markdown",
      "metadata": {
        "id": "-le1iA8u3fS-"
      },
      "source": [
        "**Define finite element approximation spaces**"
      ]
    },
    {
      "cell_type": "code",
      "metadata": {
        "id": "uWeyBcYXuaPq"
      },
      "source": [
        "# Generate mixed finite element spaces (for velocity and pressure)\n",
        "VE = VectorElement(\"CG\", mesh.ufl_cell(), 2)\n",
        "QE = FiniteElement(\"CG\", mesh.ufl_cell(), 1)\n",
        "WE = VE * QE\n",
        "\n",
        "W = FunctionSpace(mesh, WE)\n",
        "V = FunctionSpace(mesh, VE)\n",
        "Q = FunctionSpace(mesh, QE)\n",
        "\n",
        "# Define trial and test functions\n",
        "w = Function(W)\n",
        "(u, p) = (as_vector((w[0],w[1])), w[2])\n",
        "(v, q) = TestFunctions(W)"
      ],
      "execution_count": null,
      "outputs": []
    },
    {
      "cell_type": "markdown",
      "metadata": {
        "id": "OKzE7v-B3o9R"
      },
      "source": [
        "**Define boundary conditions**"
      ]
    },
    {
      "cell_type": "code",
      "metadata": {
        "id": "WAsDDvdKujQT"
      },
      "source": [
        "# Examples of inflow and outflow conditions\n",
        "XMIN = 0.0; XMAX = L\n",
        "YMIN = 0.0; YMAX = H\n",
        "uin = Expression((\"4*(x[1]*(YMAX-x[1]))/(YMAX*YMAX)\", \"0.\"), YMAX=YMAX, element = V.ufl_element())\n",
        "#pout = 0.0\n",
        "\n",
        "# Inflow boundary (ib), outflow boundary (ob) and wall boundary (wb)\n",
        "ib = Expression(\"near(x[0],XMIN) ? 1. : 0.\", XMIN=XMIN, element = Q.ufl_element())\n",
        "ob = Expression(\"near(x[0],XMAX) ? 1. : 0.\", XMAX=XMAX, element = Q.ufl_element())\n",
        "wb = Expression(\"x[0] > XMIN + DOLFIN_EPS && x[0] < XMAX - DOLFIN_EPS ? 1. : 0.\", XMIN=XMIN, XMAX=XMAX, element = Q.ufl_element())"
      ],
      "execution_count": null,
      "outputs": []
    },
    {
      "cell_type": "markdown",
      "metadata": {
        "id": "SsQLT38gVbn_"
      },
      "source": [
        "# **Results**"
      ]
    },
    {
      "cell_type": "markdown",
      "metadata": {
        "id": "y0EnzPyU46PX"
      },
      "source": [
        "**Define and solve variational problem**"
      ]
    },
    {
      "cell_type": "code",
      "metadata": {
        "id": "W-bCOI6LuxFi"
      },
      "source": [
        "h = CellDiameter(mesh)\n",
        "C = 1.0e3\n",
        "gamma = C/h\n",
        "\n",
        "f = Expression((\"0.0\",\"0.0\"), element = V.ufl_element())\n",
        "\n",
        "# Define variational problem on residual form: r(u,p;v,q) = 0\n",
        "residual = ( - p*div(v)*dx + inner(grad(u), grad(v))*dx + div(u)*q*dx +\n",
        "            gamma*(ib*inner(u - uin, v) + wb*inner(u, v))*ds - inner(f, v)*dx )\n",
        "\n",
        "# Solve algebraic system\n",
        "solve(residual == 0, w)"
      ],
      "execution_count": null,
      "outputs": []
    },
    {
      "cell_type": "markdown",
      "metadata": {
        "id": "nl9EBgZU6tMZ"
      },
      "source": [
        "**Visualize solution and export files**"
      ]
    },
    {
      "cell_type": "code",
      "metadata": {
        "id": "JUfvsjZPvBc0"
      },
      "source": [
        "!rm results-NS/*\n",
        "\n",
        "# Open files to export solution to Paraview\n",
        "file_u = File(\"results-Stokes/u.pvd\")\n",
        "file_p = File(\"results-Etokes/p.pvd\")\n",
        "\n",
        "u1 = project(u, V)\n",
        "p1 = project(p, Q)\n",
        "\n",
        "# Save solution to file\n",
        "file_u << u1\n",
        "file_p << p1\n",
        "\n",
        "# Plot solution\n",
        "plt.figure()\n",
        "plot(u1, title=\"Velocity\")\n",
        "\n",
        "plt.figure()\n",
        "plot(p1, title=\"Pressure\")\n",
        "\n",
        "plt.show()\n",
        "\n",
        "# Export files\n",
        "#!tar -czvf results-Stokes.tar.gz results-NS\n",
        "#files.download('results-Stokes.tar.gz')"
      ],
      "execution_count": null,
      "outputs": []
    },
    {
      "cell_type": "markdown",
      "metadata": {
        "id": "_4GLBv0zWr7m"
      },
      "source": [
        "# **Discussion**"
      ]
    },
    {
      "cell_type": "markdown",
      "metadata": {
        "id": "6bcsDSoRXHZe"
      },
      "source": [
        "A Taylor-Hood mixed finite element method was implemented in FEniCS to solve the Stokes equations in 2D. The method was tested for the model problem of flow past a number of circular obstacles, and the solution behaved as expected.  "
      ]
    }
  ]
}